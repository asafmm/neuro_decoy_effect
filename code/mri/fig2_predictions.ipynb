{
 "cells": [
  {
   "cell_type": "code",
   "execution_count": 2,
   "metadata": {},
   "outputs": [],
   "source": [
    "import pandas as pd\n",
    "import numpy as np\n",
    "import matplotlib.pyplot as plt\n",
    "from sklearn.linear_model import Lasso\n",
    "from sklearn.metrics import mean_squared_error\n",
    "import tqdm\n",
    "import scipy\n",
    "from utils import rdms, load_params, read_subjects_data\n",
    "import warnings\n",
    "import importlib\n",
    "from joblib import Parallel, delayed\n",
    "from copy import deepcopy\n",
    "warnings.simplefilter(action='ignore', category=pd.errors.PerformanceWarning)"
   ]
  },
  {
   "cell_type": "code",
   "execution_count": 3,
   "metadata": {},
   "outputs": [],
   "source": [
    "lottery_objs = load_params.load_lotteries()\n",
    "set_dicts = load_params.load_set_dicts()\n",
    "behavior_results = load_params.load_behavior_results()\n",
    "set_objs = load_params.load_sets(behavior_results)\n",
    "first_subjects_roi, replication_subjects_roi = load_params.load_samples()"
   ]
  },
  {
   "cell_type": "code",
   "execution_count": 4,
   "metadata": {},
   "outputs": [],
   "source": [
    "# create folds for leave-one-lottery-out\n",
    "folds = []\n",
    "folds_sets = []\n",
    "for i, set_out in enumerate(set_objs):\n",
    "    test_sets = []\n",
    "    test_ind = []\n",
    "    train_sets = []\n",
    "    train_ind = []\n",
    "    for j, set_obj in enumerate(set_objs):\n",
    "        if set_obj.overlapping_with(set_out):\n",
    "            test_sets.append(set_obj)\n",
    "            test_ind.append(j)\n",
    "        else:\n",
    "            train_sets.append(set_obj)\n",
    "            train_ind.append(j)\n",
    "    if (train_ind, test_ind) not in folds:\n",
    "        folds.append((train_ind, test_ind))\n",
    "        folds_sets.append((train_sets, test_sets))"
   ]
  },
  {
   "cell_type": "code",
   "execution_count": 5,
   "metadata": {},
   "outputs": [],
   "source": [
    "# create nested croos-validation folds \n",
    "all_inner_folds = {}\n",
    "for i, fold in enumerate(folds_sets):\n",
    "    train_sets = fold[0] # index 0 is train, index 1 is test\n",
    "    inner_folds = []\n",
    "    for train_set_i, train_set_out in enumerate(train_sets):\n",
    "        inner_train_sets = []\n",
    "        inner_test_sets = []\n",
    "        for set_ind, set_obj in enumerate(train_sets):\n",
    "            if set_obj.overlapping_with(train_set_out):\n",
    "                inner_test_sets.append(set_ind)\n",
    "            else:\n",
    "                inner_train_sets.append(set_ind)\n",
    "        if (inner_train_sets, inner_test_sets) not in inner_folds:\n",
    "            inner_folds.append((inner_train_sets, inner_test_sets))\n",
    "    all_inner_folds[i] = inner_folds"
   ]
  },
  {
   "cell_type": "code",
   "execution_count": 6,
   "metadata": {},
   "outputs": [],
   "source": [
    "def get_avg_rdms(rois, subjects, set_objs):\n",
    "    '''average the RDMs of the sample'''\n",
    "    avg_rdms = {}\n",
    "    std_rdms = {}\n",
    "    full_avg_rdms = {}\n",
    "    rois_mean = {}\n",
    "    rois_std = {}\n",
    "    for roi in rois:\n",
    "        subjects_full_rdms = []\n",
    "        subjects_set_rdms = []\n",
    "        subjects_rdm_means = {}\n",
    "        subjects_rdm_stds = {}\n",
    "        for subject in subjects:\n",
    "            # if the regression is using only a subset of the lotteries, use subset of the RDM\n",
    "            rdm_subset = subject.RDM[roi].copy()\n",
    "            subject_norm_rdm, subject_rdm_mean, subject_rdm_std = rdms.normalize_RDM(rdm_subset, return_stats=True)\n",
    "            subjects_rdm_means[subject.sub_num] = subject_rdm_mean\n",
    "            subjects_rdm_stds[subject.sub_num] = subject_rdm_std\n",
    "            subjects_full_rdms.append(subject_norm_rdm)\n",
    "            set_rdms = rdms.get_set_RDMs_obj(subject_norm_rdm, set_objs, roi)\n",
    "            subjects_set_rdms.append(set_rdms)\n",
    "        rois_mean[roi] = subjects_rdm_means\n",
    "        rois_std[roi] = subjects_rdm_stds\n",
    "        subjects_full_rdms = np.array(subjects_full_rdms)\n",
    "        full_avg_rdms[roi] = np.mean(subjects_full_rdms, axis=0)\n",
    "        subjects_rdms = pd.concat(subjects_set_rdms, axis=0)\n",
    "        avg_rdms[roi] = subjects_rdms.groupby(level=0).mean()\n",
    "        std_rdms[roi] = subjects_rdms.groupby(level=0).std()\n",
    "    \n",
    "    return avg_rdms"
   ]
  },
  {
   "cell_type": "code",
   "execution_count": 8,
   "metadata": {},
   "outputs": [],
   "source": [
    "def create_X_from_subjects(subjects):\n",
    "    '''average RDMs and concatenate to a dataframe to create features for predictions'''\n",
    "    rois = list(subjects[0].RDM.keys())\n",
    "    if len(rois) < 100:\n",
    "        # in pre-defined rois, remove whole_brain\n",
    "        rois = rois[:-1] \n",
    "    rdms = get_avg_rdms(rois, subjects, set_objs)\n",
    "    X = pd.concat(rdms.values(), axis=1)\n",
    "    return X"
   ]
  },
  {
   "cell_type": "markdown",
   "metadata": {},
   "source": [
    "### pre-defined ROIs results and premutations"
   ]
  },
  {
   "cell_type": "code",
   "execution_count": 9,
   "metadata": {},
   "outputs": [],
   "source": [
    "predef_rois = list(first_subjects_roi[0].RDM.keys())[:-1] # remove whole_brain"
   ]
  },
  {
   "cell_type": "code",
   "execution_count": 10,
   "metadata": {},
   "outputs": [],
   "source": [
    "first_X_roi = create_X_from_subjects(first_subjects_roi)\n",
    "replication_X_roi = create_X_from_subjects(replication_subjects_roi)"
   ]
  },
  {
   "cell_type": "code",
   "execution_count": 11,
   "metadata": {},
   "outputs": [],
   "source": [
    "y = [set_obj.decoy_effect for set_obj in set_objs]\n",
    "y = pd.DataFrame(y)"
   ]
  },
  {
   "cell_type": "code",
   "execution_count": 12,
   "metadata": {},
   "outputs": [],
   "source": [
    "def train_model(X, y, regularizations, folds, return_models=False):\n",
    "    warnings.simplefilter(action='ignore', category=scipy.stats.ConstantInputWarning)\n",
    "    k_folds = len(folds)\n",
    "    cv_rmse = np.zeros(k_folds)\n",
    "    corrs = np.zeros(k_folds)\n",
    "    inner_cv_rmse = np.zeros(len(regularizations))\n",
    "    if return_models:\n",
    "        models = np.zeros(k_folds, dtype=object)\n",
    "        preds = np.empty((k_folds, len(y)))\n",
    "        preds.fill(np.nan)\n",
    "    fold_i = 0\n",
    "    for train_ind, test_ind in folds:\n",
    "        X_train, y_train = X.iloc[train_ind], y[train_ind]\n",
    "        X_test, y_test = X.iloc[test_ind], y[test_ind]\n",
    "        # inner CV for hyperparameters\n",
    "        for reg_i, regularization in enumerate(regularizations):\n",
    "            inner_fold_rmse = 0\n",
    "            for inner_fold in all_inner_folds[fold_i]:\n",
    "                inner_train_ind, inner_test_ind = inner_fold[0], inner_fold[1]\n",
    "                X_train_inner, y_train_inner = X_train.iloc[inner_train_ind], y_train[inner_train_ind]\n",
    "                X_test_inner, y_test_inner = X_train.iloc[inner_test_ind], y_train[inner_test_ind]\n",
    "                lasso = Lasso(alpha=regularization, max_iter=1_000_000)\n",
    "                lasso.fit(X_train_inner, y_train_inner)\n",
    "                pred = lasso.predict(X_test_inner)\n",
    "                inner_fold_rmse += np.sqrt(mean_squared_error(y_test_inner, pred))\n",
    "            inner_cv_rmse[reg_i] = inner_fold_rmse / len(all_inner_folds[fold_i])\n",
    "        reg_argmin = np.argmin(inner_cv_rmse)\n",
    "        best_reg = regularizations[reg_argmin]\n",
    "        lasso = Lasso(alpha=best_reg, max_iter=100_000)\n",
    "        lasso.fit(X_train, y_train)\n",
    "        pred = lasso.predict(X_test)\n",
    "        cv_rmse[fold_i] = np.sqrt(mean_squared_error(y_test, pred))\n",
    "        corr = scipy.stats.spearmanr(y_test, pred)[0]\n",
    "        corrs[fold_i] = corr if ~np.isnan(corr) else 0\n",
    "        if return_models:\n",
    "            models[fold_i] = lasso\n",
    "            preds[fold_i, test_ind] = pred.flatten()\n",
    "        fold_i += 1\n",
    "    mean_cv_rmse = np.mean(cv_rmse)\n",
    "    if return_models:\n",
    "        return mean_cv_rmse, models, cv_rmse, preds, corrs\n",
    "    return mean_cv_rmse"
   ]
  },
  {
   "cell_type": "code",
   "execution_count": 13,
   "metadata": {},
   "outputs": [],
   "source": [
    "alphas = np.logspace(-3, 0, 25)"
   ]
  },
  {
   "cell_type": "code",
   "execution_count": 14,
   "metadata": {},
   "outputs": [],
   "source": [
    "attributes_X = pd.read_csv('../../data/attributes.csv', index_col=0)\n",
    "attributes_X = attributes_X.set_index(np.arange(1, 28))"
   ]
  },
  {
   "cell_type": "code",
   "execution_count": 15,
   "metadata": {},
   "outputs": [],
   "source": [
    "attributes_result, attributes_models, attributes_rmses, attributes_preds, attributes_corrs = train_model(attributes_X, y.values.flatten(), alphas, folds, return_models=True)"
   ]
  },
  {
   "cell_type": "code",
   "execution_count": 16,
   "metadata": {},
   "outputs": [
    {
     "name": "stdout",
     "output_type": "stream",
     "text": [
      "RMSE: 0.0764, mean correlation: 0.3142\n"
     ]
    }
   ],
   "source": [
    "print(f'RMSE: {attributes_result:.4f}, mean correlation: {np.mean(attributes_corrs):.4f}')"
   ]
  },
  {
   "cell_type": "code",
   "execution_count": 17,
   "metadata": {},
   "outputs": [],
   "source": [
    "first_roi_result, first_roi_models, first_roi_rmses, first_roi_preds, first_roi_corrs = train_model(first_X_roi, y.values.flatten(), alphas, folds, return_models=True)"
   ]
  },
  {
   "cell_type": "code",
   "execution_count": 18,
   "metadata": {},
   "outputs": [
    {
     "name": "stdout",
     "output_type": "stream",
     "text": [
      "RMSE: 0.0656, mean correlation: 0.4730\n"
     ]
    }
   ],
   "source": [
    "print(f'RMSE: {first_roi_result:.4f}, mean correlation: {np.mean(first_roi_corrs):.4f}')"
   ]
  },
  {
   "cell_type": "code",
   "execution_count": 19,
   "metadata": {},
   "outputs": [],
   "source": [
    "replication_roi_result, replication_roi_models, replication_roi_rmses, replication_roi_preds, replication_roi_corrs = train_model(replication_X_roi, y.values.flatten(), alphas, folds, return_models=True)"
   ]
  },
  {
   "cell_type": "code",
   "execution_count": 20,
   "metadata": {},
   "outputs": [
    {
     "name": "stdout",
     "output_type": "stream",
     "text": [
      "RMSE: 0.0659, mean correlation: 0.5152\n"
     ]
    }
   ],
   "source": [
    "print(f'RMSE: {replication_roi_result:.4f}, mean correlation: {np.mean(replication_roi_corrs):.4f}')"
   ]
  },
  {
   "cell_type": "markdown",
   "metadata": {},
   "source": [
    "#### permutation test"
   ]
  },
  {
   "cell_type": "code",
   "execution_count": 26,
   "metadata": {},
   "outputs": [
    {
     "name": "stderr",
     "output_type": "stream",
     "text": [
      "100%|██████████| 10000/10000 [00:00<00:00, 13969.73it/s]\n"
     ]
    }
   ],
   "source": [
    "permutations = 10_000\n",
    "permutation_rmse = np.zeros(permutations)\n",
    "permutation_ys = np.zeros((permutations, len(y)))\n",
    "for perm_i in tqdm.tqdm(range(permutations), total=permutations):\n",
    "    perm_y = y.sample(frac=1)\n",
    "    permutation_ys[perm_i, :] = perm_y.values.flatten()"
   ]
  },
  {
   "cell_type": "code",
   "execution_count": 27,
   "metadata": {},
   "outputs": [],
   "source": [
    "# attributes_permutation_results = Parallel(n_jobs=-1)(  delayed(train_model)(attributes_X, perm_y, alphas, folds) \n",
    "#                                             for perm_y in tqdm.tqdm(permutation_ys))"
   ]
  },
  {
   "cell_type": "code",
   "execution_count": 28,
   "metadata": {},
   "outputs": [],
   "source": [
    "# replication_permutation_results = Parallel(n_jobs=-1)(  delayed(train_model)(replication_X_roi, perm_y, alphas, folds) \n",
    "#                                             for perm_y in tqdm.tqdm(permutation_ys))"
   ]
  },
  {
   "cell_type": "markdown",
   "metadata": {},
   "source": [
    "### random 8 parcels from schaefer - baseline perfromance"
   ]
  },
  {
   "cell_type": "code",
   "execution_count": 50,
   "metadata": {},
   "outputs": [],
   "source": [
    "first_subjects_schaefer, replication_subjects_schaefer = load_params.load_samples(roi_type='schaefer')\n",
    "schaefer_rois = list(first_subjects_schaefer[0].RDM.keys())\n",
    "first_X_schaefer = pd.read_csv('../../results/first_results/cv/first_X_schaefer.csv', index_col=0)\n",
    "replication_X_schaefer = pd.read_csv('../../results/replication_results/cv/replication_X_schaefer.csv', index_col=0)"
   ]
  },
  {
   "cell_type": "code",
   "execution_count": 51,
   "metadata": {},
   "outputs": [],
   "source": [
    "def extract_roi_columns(rois, X1, X2=None):\n",
    "    roi_cols =  [roi + '_Target_Decoy' for roi in rois] +\\\n",
    "                [roi + '_Target_Competitor' for roi in rois] +\\\n",
    "                [roi + '_Competitor_Decoy' for roi in rois]\n",
    "    roi_cols = sorted(roi_cols)\n",
    "    X1 = X1.loc[:, roi_cols]\n",
    "    if X2 is not None:\n",
    "        X2 = X2.loc[:, roi_cols]\n",
    "        return X1, X2\n",
    "    else:\n",
    "        return X1"
   ]
  },
  {
   "cell_type": "code",
   "execution_count": null,
   "metadata": {},
   "outputs": [
    {
     "name": "stderr",
     "output_type": "stream",
     "text": [
      "100%|██████████| 10000/10000 [00:07<00:00, 1267.19it/s]\n"
     ]
    }
   ],
   "source": [
    "permutations = 10_000\n",
    "n_rois = len(predef_rois)\n",
    "permutation_rmse = np.zeros(permutations)\n",
    "permutation_first_X = np.zeros(permutations, dtype=object)\n",
    "permutation_replication_X = np.zeros(permutations, dtype=object)\n",
    "for perm_i in tqdm.tqdm(range(permutations), total=permutations):\n",
    "    random_rois = np.random.choice(schaefer_rois, n_rois, replace=False)\n",
    "    first_perm_X, replication_perm_X = extract_roi_columns(random_rois, first_X_schaefer, replication_X_schaefer)\n",
    "    permutation_first_X[perm_i] = first_perm_X\n",
    "    permutation_replication_X[perm_i] = replication_perm_X"
   ]
  },
  {
   "cell_type": "code",
   "execution_count": null,
   "metadata": {},
   "outputs": [],
   "source": [
    "warnings.filterwarnings(\"ignore\", category=scipy.stats.ConstantInputWarning)\n",
    "warnings.simplefilter(action='ignore', category=scipy.stats.ConstantInputWarning)"
   ]
  },
  {
   "cell_type": "code",
   "execution_count": null,
   "metadata": {},
   "outputs": [],
   "source": [
    "# first_permutation_results = Parallel(n_jobs=-1)(  delayed(train_model)(first_perm_X, y.values, alphas, folds) \n",
    "#                                             for first_perm_X in tqdm.tqdm(permutation_first_X))"
   ]
  },
  {
   "cell_type": "code",
   "execution_count": null,
   "metadata": {},
   "outputs": [
    {
     "name": "stderr",
     "output_type": "stream",
     "text": [
      "100%|██████████| 10000/10000 [2:25:56<00:00,  1.14it/s] \n"
     ]
    }
   ],
   "source": [
    "# replication_permutation_results = Parallel(n_jobs=-1)(  delayed(train_model)(replication_perm_X, y.values, alphas, folds) \n",
    "#                                             for replication_perm_X in tqdm.tqdm(permutation_replication_X))"
   ]
  }
 ],
 "metadata": {
  "kernelspec": {
   "display_name": "decoy",
   "language": "python",
   "name": "python3"
  },
  "language_info": {
   "codemirror_mode": {
    "name": "ipython",
    "version": 3
   },
   "file_extension": ".py",
   "mimetype": "text/x-python",
   "name": "python",
   "nbconvert_exporter": "python",
   "pygments_lexer": "ipython3",
   "version": "3.11.8"
  }
 },
 "nbformat": 4,
 "nbformat_minor": 2
}
